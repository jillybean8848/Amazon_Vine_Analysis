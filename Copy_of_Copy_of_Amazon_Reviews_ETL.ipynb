{
  "cells": [
    {
      "cell_type": "markdown",
      "metadata": {
        "id": "view-in-github",
        "colab_type": "text"
      },
      "source": [
        "<a href=\"https://colab.research.google.com/github/jillybean8848/Amazon_Vine_Analysis/blob/main/Copy_of_Copy_of_Amazon_Reviews_ETL.ipynb\" target=\"_parent\"><img src=\"https://colab.research.google.com/assets/colab-badge.svg\" alt=\"Open In Colab\"/></a>"
      ]
    },
    {
      "cell_type": "code",
      "source": [
        "!pip install pyspark"
      ],
      "metadata": {
        "colab": {
          "base_uri": "https://localhost:8080/"
        },
        "id": "tyVFy0CuD0pe",
        "outputId": "623aae9c-5f5b-47aa-92f7-93d5f5d29d54"
      },
      "execution_count": null,
      "outputs": [
        {
          "output_type": "stream",
          "name": "stdout",
          "text": [
            "Looking in indexes: https://pypi.org/simple, https://us-python.pkg.dev/colab-wheels/public/simple/\n",
            "Requirement already satisfied: pyspark in /usr/local/lib/python3.8/dist-packages (3.3.1)\n",
            "Requirement already satisfied: py4j==0.10.9.5 in /usr/local/lib/python3.8/dist-packages (from pyspark) (0.10.9.5)\n"
          ]
        }
      ]
    },
    {
      "cell_type": "code",
      "execution_count": null,
      "metadata": {
        "colab": {
          "base_uri": "https://localhost:8080/"
        },
        "id": "V58rxea0HqSa",
        "outputId": "37c81e7c-f78f-45a1-f221-15b7b5516700"
      },
      "outputs": [
        {
          "output_type": "stream",
          "name": "stdout",
          "text": [
            "\r0% [Working]\r            \rHit:1 https://cloud.r-project.org/bin/linux/ubuntu bionic-cran40/ InRelease\n",
            "\r0% [Waiting for headers] [Waiting for headers] [Waiting for headers] [Connectin\r                                                                               \rGet:2 http://security.ubuntu.com/ubuntu bionic-security InRelease [88.7 kB]\n",
            "\r0% [Waiting for headers] [2 InRelease 14.2 kB/88.7 kB 16%] [Waiting for headers\r0% [1 InRelease gpgv 3,626 B] [Waiting for headers] [2 InRelease 14.2 kB/88.7 k\r                                                                               \rIgn:3 https://developer.download.nvidia.com/compute/machine-learning/repos/ubuntu1804/x86_64  InRelease\n",
            "\r0% [1 InRelease gpgv 3,626 B] [Waiting for headers] [2 InRelease 14.2 kB/88.7 k\r                                                                               \rHit:4 https://developer.download.nvidia.com/compute/cuda/repos/ubuntu1804/x86_64  InRelease\n",
            "\r0% [1 InRelease gpgv 3,626 B] [Waiting for headers] [2 InRelease 14.2 kB/88.7 k\r                                                                               \rHit:5 http://archive.ubuntu.com/ubuntu bionic InRelease\n",
            "Hit:6 https://developer.download.nvidia.com/compute/machine-learning/repos/ubuntu1804/x86_64  Release\n",
            "Hit:7 http://ppa.launchpad.net/c2d4u.team/c2d4u4.0+/ubuntu bionic InRelease\n",
            "Get:8 http://archive.ubuntu.com/ubuntu bionic-updates InRelease [88.7 kB]\n",
            "Hit:9 http://ppa.launchpad.net/cran/libgit2/ubuntu bionic InRelease\n",
            "Get:10 http://archive.ubuntu.com/ubuntu bionic-backports InRelease [83.3 kB]\n",
            "Hit:11 http://ppa.launchpad.net/deadsnakes/ppa/ubuntu bionic InRelease\n",
            "Hit:12 http://ppa.launchpad.net/graphics-drivers/ppa/ubuntu bionic InRelease\n",
            "Fetched 261 kB in 3s (101 kB/s)\n",
            "Reading package lists... Done\n"
          ]
        }
      ],
      "source": [
        "import os\n",
        "# Find the latest version of spark 3.0 from http://www.apache.org/dist/spark/ and enter as the spark version\n",
        "# For example:\n",
        "# spark_version = 'spark-3.0.3'\n",
        "spark_version = 'spark-3.1.3'\n",
        "os.environ['SPARK_VERSION']=spark_version\n",
        "\n",
        "# Install Spark and Java\n",
        "!apt-get update\n",
        "!apt-get install openjdk-11-jdk-headless -qq > /dev/null\n",
        "!wget -q http://www.apache.org/dist/spark/$SPARK_VERSION/$SPARK_VERSION-bin-hadoop2.7.tgz\n",
        "!tar xf $SPARK_VERSION-bin-hadoop2.7.tgz\n",
        "!pip install -q findspark\n",
        "\n",
        "# Set Environment Variables\n",
        "import os\n",
        "os.environ[\"JAVA_HOME\"] = \"/usr/lib/jvm/java-11-openjdk-amd64\"\n",
        "os.environ[\"SPARK_HOME\"] = f\"/content/{spark_version}-bin-hadoop2.7\"\n",
        "\n",
        "# Start a SparkSession\n",
        "import findspark\n",
        "findspark.init()"
      ]
    },
    {
      "cell_type": "code",
      "execution_count": null,
      "metadata": {
        "colab": {
          "base_uri": "https://localhost:8080/"
        },
        "id": "_xKwTpATHqSe",
        "outputId": "4c8877f5-af9a-4dc9-ed1e-565ed842cf10"
      },
      "outputs": [
        {
          "output_type": "stream",
          "name": "stdout",
          "text": [
            "--2022-12-10 19:21:01--  https://jdbc.postgresql.org/download/postgresql-42.2.16.jar\n",
            "Resolving jdbc.postgresql.org (jdbc.postgresql.org)... 72.32.157.228, 2001:4800:3e1:1::228\n",
            "Connecting to jdbc.postgresql.org (jdbc.postgresql.org)|72.32.157.228|:443... connected.\n",
            "HTTP request sent, awaiting response... 200 OK\n",
            "Length: 1002883 (979K) [application/java-archive]\n",
            "Saving to: ‘postgresql-42.2.16.jar.1’\n",
            "\n",
            "postgresql-42.2.16. 100%[===================>] 979.38K  5.32MB/s    in 0.2s    \n",
            "\n",
            "2022-12-10 19:21:01 (5.32 MB/s) - ‘postgresql-42.2.16.jar.1’ saved [1002883/1002883]\n",
            "\n"
          ]
        }
      ],
      "source": [
        "# Download the Postgres driver that will allow Spark to interact with Postgres.\n",
        "!wget https://jdbc.postgresql.org/download/postgresql-42.2.16.jar"
      ]
    },
    {
      "cell_type": "code",
      "execution_count": null,
      "metadata": {
        "id": "MMqDAjVS0KN9"
      },
      "outputs": [],
      "source": [
        "from pyspark.sql import SparkSession\n",
        "spark = SparkSession.builder.appName(\"M17-Amazon-Challenge\").config(\"spark.driver.extraClassPath\",\"/content/postgresql-42.2.16.jar\").getOrCreate()"
      ]
    },
    {
      "cell_type": "markdown",
      "metadata": {
        "id": "cyBsySGuY-9V"
      },
      "source": [
        "### Load Amazon Data into Spark DataFrame"
      ]
    },
    {
      "cell_type": "code",
      "execution_count": null,
      "metadata": {
        "id": "CtCmBhQJY-9Z",
        "colab": {
          "base_uri": "https://localhost:8080/"
        },
        "outputId": "5c5f8ca4-341b-4e17-daa3-eb6d059c2a74"
      },
      "outputs": [
        {
          "output_type": "stream",
          "name": "stdout",
          "text": [
            "+-----------+-----------+--------------+----------+--------------+--------------------+----------------+-----------+-------------+-----------+----+-----------------+--------------------+---------------------+-----------+\n",
            "|marketplace|customer_id|     review_id|product_id|product_parent|       product_title|product_category|star_rating|helpful_votes|total_votes|vine|verified_purchase|     review_headline|          review_body|review_date|\n",
            "+-----------+-----------+--------------+----------+--------------+--------------------+----------------+-----------+-------------+-----------+----+-----------------+--------------------+---------------------+-----------+\n",
            "|         US|    1797882|R3I2DHQBR577SS|B001ANOOOE|       2102612|The Naked Bee Vit...|          Beauty|          5|            0|          0|   N|                Y|          Five Stars| Love this, excell...| 2015-08-31|\n",
            "|         US|   18381298|R1QNE9NQFJC2Y4|B0016J22EQ|     106393691|Alba Botanica Sun...|          Beauty|          5|            0|          0|   N|                Y|Thank you Alba Bo...| The great thing a...| 2015-08-31|\n",
            "|         US|   19242472|R3LIDG2Q4LJBAO|B00HU6UQAG|     375449471|Elysee Infusion S...|          Beauty|          5|            0|          0|   N|                Y|          Five Stars| Great Product, I'...| 2015-08-31|\n",
            "|         US|   19551372|R3KSZHPAEVPEAL|B002HWS7RM|     255651889|Diane D722 Color,...|          Beauty|          5|            0|          0|   N|                Y|          GOOD DEAL!| I use them as sho...| 2015-08-31|\n",
            "|         US|   14802407| RAI2OIG50KZ43|B00SM99KWU|     116158747|Biore UV Aqua Ric...|          Beauty|          5|            0|          0|   N|                Y|this soaks in qui...| This is my go-to ...| 2015-08-31|\n",
            "|         US|    2909389|R1R30FA4RB5P54|B000NYL1Z6|     166146615|Murad Clarifying ...|          Beauty|          4|            0|          0|   N|                Y|          Four Stars|                 Good| 2015-08-31|\n",
            "|         US|   19397215|R30IJKCGJBGPJH|B001SYWTFG|     111742328|CoverGirl Queen C...|          Beauty|          5|            0|          0|   N|                Y|            Good buy| Great eyeliner, d...| 2015-08-31|\n",
            "|         US|    3195210|R18GLJJPVQ1OVH|B005F2EVMQ|     255803087|Bifesta Mandom Ey...|          Beauty|          5|            0|          0|   N|                Y|          Five Stars|Best makeup remover！| 2015-08-31|\n",
            "|         US|   52216383| R8TVYIJXLYJT0|B00M1SUW7K|     246816549|Can You Handlebar...|          Beauty|          5|            0|          0|   N|                Y|Tame the wild mus...| This is a great p...| 2015-08-31|\n",
            "|         US|   10278216|R1CJGF6M3PVHEZ|B001KYQA1S|       9612905|Maybelline Great ...|          Beauty|          1|            0|          2|   N|                Y|but it's like hav...| I thought it woul...| 2015-08-31|\n",
            "+-----------+-----------+--------------+----------+--------------+--------------------+----------------+-----------+-------------+-----------+----+-----------------+--------------------+---------------------+-----------+\n",
            "only showing top 10 rows\n",
            "\n"
          ]
        }
      ],
      "source": [
        "from pyspark import SparkFiles\n",
        "url = \"https://s3.amazonaws.com/amazon-reviews-pds/tsv/amazon_reviews_us_Beauty_v1_00.tsv.gz\"\n",
        "spark.sparkContext.addFile(url)\n",
        "df = spark.read.option(\"encoding\", \"UTF-8\").csv(SparkFiles.get(\"amazon_reviews_us_Beauty_v1_00.tsv.gz\"), sep=\"\\t\", header=True, inferSchema=True)\n",
        "df.show(10)"
      ]
    },
    {
      "cell_type": "markdown",
      "metadata": {
        "id": "2yUSe55VY-9t"
      },
      "source": [
        "### Create DataFrames to match tables"
      ]
    },
    {
      "cell_type": "code",
      "execution_count": null,
      "metadata": {
        "id": "C8REmY1aY-9u",
        "colab": {
          "base_uri": "https://localhost:8080/"
        },
        "outputId": "1a22edd5-9ada-4f1f-bf9a-4a9fd1d4a65b"
      },
      "outputs": [
        {
          "output_type": "stream",
          "name": "stdout",
          "text": [
            "+--------------+-----------+----------+--------------+--------------------+-----------+-----------+-------------+-----------+----+-----------------+\n",
            "|     review_id|customer_id|product_id|product_parent|       product_title|review_date|star_rating|helpful_votes|total_votes|vine|verified_purchase|\n",
            "+--------------+-----------+----------+--------------+--------------------+-----------+-----------+-------------+-----------+----+-----------------+\n",
            "|R3I2DHQBR577SS|    1797882|B001ANOOOE|       2102612|The Naked Bee Vit...| 2015-08-31|          5|            0|          0|   N|                Y|\n",
            "|R1QNE9NQFJC2Y4|   18381298|B0016J22EQ|     106393691|Alba Botanica Sun...| 2015-08-31|          5|            0|          0|   N|                Y|\n",
            "|R3LIDG2Q4LJBAO|   19242472|B00HU6UQAG|     375449471|Elysee Infusion S...| 2015-08-31|          5|            0|          0|   N|                Y|\n",
            "|R3KSZHPAEVPEAL|   19551372|B002HWS7RM|     255651889|Diane D722 Color,...| 2015-08-31|          5|            0|          0|   N|                Y|\n",
            "| RAI2OIG50KZ43|   14802407|B00SM99KWU|     116158747|Biore UV Aqua Ric...| 2015-08-31|          5|            0|          0|   N|                Y|\n",
            "|R1R30FA4RB5P54|    2909389|B000NYL1Z6|     166146615|Murad Clarifying ...| 2015-08-31|          4|            0|          0|   N|                Y|\n",
            "|R30IJKCGJBGPJH|   19397215|B001SYWTFG|     111742328|CoverGirl Queen C...| 2015-08-31|          5|            0|          0|   N|                Y|\n",
            "|R18GLJJPVQ1OVH|    3195210|B005F2EVMQ|     255803087|Bifesta Mandom Ey...| 2015-08-31|          5|            0|          0|   N|                Y|\n",
            "| R8TVYIJXLYJT0|   52216383|B00M1SUW7K|     246816549|Can You Handlebar...| 2015-08-31|          5|            0|          0|   N|                Y|\n",
            "|R1CJGF6M3PVHEZ|   10278216|B001KYQA1S|       9612905|Maybelline Great ...| 2015-08-31|          1|            0|          2|   N|                Y|\n",
            "+--------------+-----------+----------+--------------+--------------------+-----------+-----------+-------------+-----------+----+-----------------+\n",
            "only showing top 10 rows\n",
            "\n"
          ]
        }
      ],
      "source": [
        "from pyspark.sql.functions import to_date\n",
        "# Read in the Review dataset as a DataFrame\n",
        "beauty_reviews_df = df.select([\"review_id\",\"customer_id\",\"product_id\",\"product_parent\",\"product_title\",\"review_date\",\"star_rating\", \"helpful_votes\",\"total_votes\",\"vine\",\"verified_purchase\"])\n",
        "beauty_reviews_df.show(10)"
      ]
    },
    {
      "cell_type": "code",
      "execution_count": null,
      "metadata": {
        "id": "B0TESUDRY-90",
        "colab": {
          "base_uri": "https://localhost:8080/"
        },
        "outputId": "49f202ed-3af6-4f68-f14c-dc2082a142f9"
      },
      "outputs": [
        {
          "output_type": "stream",
          "name": "stdout",
          "text": [
            "+-----------+--------------+\n",
            "|customer_id|customer_count|\n",
            "+-----------+--------------+\n",
            "|    9015608|             3|\n",
            "|    9767880|             2|\n",
            "|   15958313|             1|\n",
            "|   12879980|            20|\n",
            "|   43920023|            31|\n",
            "|     106535|             1|\n",
            "|   20328662|             1|\n",
            "|   12819130|             4|\n",
            "|   50145309|             1|\n",
            "|   15159322|             2|\n",
            "|   16747249|             2|\n",
            "|   37678162|             1|\n",
            "|     227763|             1|\n",
            "|   15191144|             2|\n",
            "|   31946913|             1|\n",
            "|   44295916|             1|\n",
            "|   19021463|             1|\n",
            "|     806337|             2|\n",
            "|   16306618|            18|\n",
            "|     393186|             1|\n",
            "+-----------+--------------+\n",
            "only showing top 20 rows\n",
            "\n"
          ]
        }
      ],
      "source": [
        "# Create the customers_table DataFrame\n",
        "# customers_df = df.groupby(\"\").agg({\"\"}).withColumnRenamed(\"\", \"customer_count\")\n",
        "customers_df = beauty_reviews_df.groupby(\"customer_id\").agg({\"customer_id\": 'count'}).withColumnRenamed(\"count(customer_id)\", \"customer_count\")\n",
        "customers_df.show(10)"
      ]
    },
    {
      "cell_type": "code",
      "source": [
        "products_df = beauty_reviews_df.select([\"product_title\", \"product_id\"])"
      ],
      "metadata": {
        "id": "Adwfw8emZGbL"
      },
      "execution_count": null,
      "outputs": []
    },
    {
      "cell_type": "code",
      "source": [
        "products_df.count()"
      ],
      "metadata": {
        "colab": {
          "base_uri": "https://localhost:8080/"
        },
        "id": "WM4PJr3kZZoM",
        "outputId": "e45b14a5-0001-47c6-a7f6-e383664ab4f9"
      },
      "execution_count": null,
      "outputs": [
        {
          "output_type": "execute_result",
          "data": {
            "text/plain": [
              "5115666"
            ]
          },
          "metadata": {},
          "execution_count": 9
        }
      ]
    },
    {
      "cell_type": "code",
      "execution_count": null,
      "metadata": {
        "id": "4FwXA6UvY-96",
        "colab": {
          "base_uri": "https://localhost:8080/"
        },
        "outputId": "bac4853f-2287-4825-cc32-e1b820ac272f"
      },
      "outputs": [
        {
          "output_type": "stream",
          "name": "stdout",
          "text": [
            "+--------------------+----------+\n",
            "|       product_title|product_id|\n",
            "+--------------------+----------+\n",
            "|Henna Art, Tools ...|1935682016|\n",
            "|Overnight Success...|9788077757|\n",
            "|Dolce & Gabbana C...|9790770367|\n",
            "|Calvin Klein Euph...|9790773587|\n",
            "|Herve Leger Perfu...|9790796927|\n",
            "|Trouble By Bouche...|9790800886|\n",
            "|Women Perfume Oil...|9865962039|\n",
            "|Conair 077B 1875-...|B000050B6Q|\n",
            "|Pond's Overnight ...|B000052YQV|\n",
            "|Neutrogena Rainba...|B000052ZBD|\n",
            "|Wet 'n' Wild Crem...|B000052ZEO|\n",
            "|Neutrogena Clean ...|B0000532VT|\n",
            "|Sunbeam SBCL870 1...|B00005CDRS|\n",
            "|Cover Girl Outlas...|B00005NAPK|\n",
            "|Oral-B Sensitive ...|B00006ANDK|\n",
            "|AXE Deodorant Bod...|B000089SAM|\n",
            "|Philips HQ481 Tra...|B00008BFTP|\n",
            "|Revlon ColorStay ...|B00008KA86|\n",
            "|Aveeno Moisture L...|B0000A4EW2|\n",
            "|Therapist Select ...|B0000AKT6Q|\n",
            "+--------------------+----------+\n",
            "only showing top 20 rows\n",
            "\n"
          ]
        }
      ],
      "source": [
        "# Create the products_table DataFrame and drop duplicates. \n",
        "# products_df = df.select([]).drop_duplicates()\n",
        "products_df = products_df.drop_duplicates([\"product_id\"])\n",
        "products_df.show(20)"
      ]
    },
    {
      "cell_type": "code",
      "source": [
        "products_df.count()"
      ],
      "metadata": {
        "colab": {
          "base_uri": "https://localhost:8080/"
        },
        "id": "mViP97coYYZy",
        "outputId": "f18bd8c0-6f2f-40ab-c5c6-dfdc8ccaa56c"
      },
      "execution_count": null,
      "outputs": [
        {
          "output_type": "execute_result",
          "data": {
            "text/plain": [
              "588817"
            ]
          },
          "metadata": {},
          "execution_count": 11
        }
      ]
    },
    {
      "cell_type": "code",
      "source": [
        "beauty_reviews_df.count()"
      ],
      "metadata": {
        "colab": {
          "base_uri": "https://localhost:8080/"
        },
        "id": "gyTH06CaYrWr",
        "outputId": "9e3b7ad3-062c-4eac-a4fa-3cbd1fa51ce5"
      },
      "execution_count": null,
      "outputs": [
        {
          "output_type": "execute_result",
          "data": {
            "text/plain": [
              "5115666"
            ]
          },
          "metadata": {},
          "execution_count": 12
        }
      ]
    },
    {
      "cell_type": "code",
      "execution_count": null,
      "metadata": {
        "id": "MkqyCuNQY-9-",
        "colab": {
          "base_uri": "https://localhost:8080/"
        },
        "outputId": "e44309e0-9b42-437d-9c52-a59ab9215ec7"
      },
      "outputs": [
        {
          "output_type": "stream",
          "name": "stdout",
          "text": [
            "+--------------+-----------+----------+--------------+-----------+\n",
            "|     review_id|customer_id|product_id|product_parent|review_date|\n",
            "+--------------+-----------+----------+--------------+-----------+\n",
            "|R3I2DHQBR577SS|    1797882|B001ANOOOE|       2102612| 2015-08-31|\n",
            "|R1QNE9NQFJC2Y4|   18381298|B0016J22EQ|     106393691| 2015-08-31|\n",
            "|R3LIDG2Q4LJBAO|   19242472|B00HU6UQAG|     375449471| 2015-08-31|\n",
            "|R3KSZHPAEVPEAL|   19551372|B002HWS7RM|     255651889| 2015-08-31|\n",
            "| RAI2OIG50KZ43|   14802407|B00SM99KWU|     116158747| 2015-08-31|\n",
            "|R1R30FA4RB5P54|    2909389|B000NYL1Z6|     166146615| 2015-08-31|\n",
            "|R30IJKCGJBGPJH|   19397215|B001SYWTFG|     111742328| 2015-08-31|\n",
            "|R18GLJJPVQ1OVH|    3195210|B005F2EVMQ|     255803087| 2015-08-31|\n",
            "| R8TVYIJXLYJT0|   52216383|B00M1SUW7K|     246816549| 2015-08-31|\n",
            "|R1CJGF6M3PVHEZ|   10278216|B001KYQA1S|       9612905| 2015-08-31|\n",
            "+--------------+-----------+----------+--------------+-----------+\n",
            "only showing top 10 rows\n",
            "\n"
          ]
        }
      ],
      "source": [
        "# Create the review_id_table DataFrame. \n",
        "# Convert the 'review_date' column to a date datatype with to_date(\"review_date\", 'yyyy-MM-dd').alias(\"review_date\")\n",
        "# review_id_df = df.select([, to_date(\"review_date\", 'yyyy-MM-dd').alias(\"review_date\")])\n",
        "review_id_df = beauty_reviews_df.select([\"review_id\",\"customer_id\", \"product_id\",\"product_parent\", to_date(\"review_date\", 'yyyy-MM-dd').alias(\"review_date\")])\n",
        "review_id_df.show(10)\n"
      ]
    },
    {
      "cell_type": "code",
      "execution_count": null,
      "metadata": {
        "id": "lzMmkdKmY--D",
        "colab": {
          "base_uri": "https://localhost:8080/"
        },
        "outputId": "5830321e-a36f-4c7f-99ce-f6bb08618276"
      },
      "outputs": [
        {
          "output_type": "execute_result",
          "data": {
            "text/plain": [
              "[Row(review_id='R1W18J8JHK3QT4', star_rating='5', helpful_votes=12, total_votes=16, vine='N', verified_purchase='N'),\n",
              " Row(review_id='RQLSGNI4JL4O7', star_rating='5', helpful_votes=36, total_votes=37, vine='N', verified_purchase='N'),\n",
              " Row(review_id='R3SHWVR8GO9WK4', star_rating='5', helpful_votes=26, total_votes=26, vine='N', verified_purchase='N'),\n",
              " Row(review_id='R2KNC11QJB7V5U', star_rating='5', helpful_votes=30, total_votes=34, vine='N', verified_purchase='N'),\n",
              " Row(review_id='R1OXK8PJ0TJ6UA', star_rating='4', helpful_votes=4, total_votes=4, vine='N', verified_purchase='N'),\n",
              " Row(review_id='RZ7RZ02MTP4SL', star_rating='5', helpful_votes=10, total_votes=10, vine='N', verified_purchase='N'),\n",
              " Row(review_id='R2IRC0IZ8YCE5T', star_rating='3', helpful_votes=23, total_votes=23, vine='N', verified_purchase='N'),\n",
              " Row(review_id='R1U4ZSXOD228CZ', star_rating='5', helpful_votes=89, total_votes=97, vine='N', verified_purchase='N'),\n",
              " Row(review_id='R3SFJLZE09URWM', star_rating='5', helpful_votes=10, total_votes=10, vine='N', verified_purchase='N'),\n",
              " Row(review_id='R1MEWK4I7YS5XK', star_rating='5', helpful_votes=23, total_votes=23, vine='N', verified_purchase='N')]"
            ]
          },
          "metadata": {},
          "execution_count": 23
        }
      ],
      "source": [
        "# Create the vine_table. DataFrame\n",
        "# vine_df = df.select([])\n",
        "vine_df = beauty_reviews_df.select([\"review_id\",\"star_rating\",\"helpful_votes\",\"total_votes\",\"vine\",\"verified_purchase\"])\n",
        "vine_df.tail(10)"
      ]
    },
    {
      "cell_type": "markdown",
      "metadata": {
        "id": "jITZhLkmY--J"
      },
      "source": [
        "### Connect to the AWS RDS instance and write each DataFrame to its table. "
      ]
    },
    {
      "cell_type": "markdown",
      "source": [],
      "metadata": {
        "id": "2MZUl_G5z9Kq"
      }
    },
    {
      "cell_type": "code",
      "source": [
        "# Configure settings for RDS\n",
        "\n",
        "from getpass import getpass\n",
        "\n",
        "password = getpass(\"Enter PgAdmin password\")"
      ],
      "metadata": {
        "colab": {
          "base_uri": "https://localhost:8080/"
        },
        "id": "BBgPAb1JTf-_",
        "outputId": "f1c59bb3-eb28-40df-dc7a-236670f73fe1"
      },
      "execution_count": null,
      "outputs": [
        {
          "name": "stdout",
          "output_type": "stream",
          "text": [
            "Enter PgAdmin password··········\n"
          ]
        }
      ]
    },
    {
      "cell_type": "code",
      "execution_count": null,
      "metadata": {
        "id": "7jiUvs1aY--L"
      },
      "outputs": [],
      "source": [
        "# Configure settings for RDS\n",
        "\n",
        "mode = \"append\"\n",
        "jdbc_url=\"jdbc:postgresql://amazon-vine-jillybean8848-cwru.cram7x4auom8.us-east-1.rds.amazonaws.com:5432/Amazon_Vine\"\n",
        "config = {\"user\":\"root\", \n",
        "          \"password\": password, \n",
        "          \"driver\":\"org.postgresql.Driver\"}"
      ]
    },
    {
      "cell_type": "code",
      "execution_count": null,
      "metadata": {
        "id": "T2zgZ-aKY--Q"
      },
      "outputs": [],
      "source": [
        "# Write review_id_df to table in RDS\n",
        "review_id_df.write.jdbc(url=jdbc_url, table='review_id_table', mode=mode, properties=config)"
      ]
    },
    {
      "cell_type": "code",
      "execution_count": null,
      "metadata": {
        "id": "1m3yzn-LY--U"
      },
      "outputs": [],
      "source": [
        "# Write products_df to table in RDS\n",
        "# about 3 min\n",
        "products_df.write.jdbc(url=jdbc_url, table='products_table', mode=mode, properties=config)"
      ]
    },
    {
      "cell_type": "code",
      "execution_count": null,
      "metadata": {
        "id": "KbXri15fY--Z"
      },
      "outputs": [],
      "source": [
        "# Write customers_df to table in RDS\n",
        "# 5 min 14 s\n",
        "customers_df.write.jdbc(url=jdbc_url, table='customers_table', mode=mode, properties=config)"
      ]
    },
    {
      "cell_type": "code",
      "execution_count": null,
      "metadata": {
        "id": "XdQknSHLY--e"
      },
      "outputs": [],
      "source": [
        "# Write vine_df to table in RDS\n",
        "# 11 minutes\n",
        "vine_df.write.jdbc(url=jdbc_url, table='vine_table', mode=mode, properties=config)"
      ]
    },
    {
      "cell_type": "code",
      "execution_count": null,
      "metadata": {
        "id": "Exuo6ebUsCqW"
      },
      "outputs": [],
      "source": []
    }
  ],
  "metadata": {
    "colab": {
      "provenance": [],
      "include_colab_link": true
    },
    "kernelspec": {
      "display_name": "Python 3 (ipykernel)",
      "language": "python",
      "name": "python3"
    },
    "language_info": {
      "codemirror_mode": {
        "name": "ipython",
        "version": 3
      },
      "file_extension": ".py",
      "mimetype": "text/x-python",
      "name": "python",
      "nbconvert_exporter": "python",
      "pygments_lexer": "ipython3",
      "version": "3.8.13"
    },
    "nteract": {
      "version": "0.12.3"
    }
  },
  "nbformat": 4,
  "nbformat_minor": 0
}