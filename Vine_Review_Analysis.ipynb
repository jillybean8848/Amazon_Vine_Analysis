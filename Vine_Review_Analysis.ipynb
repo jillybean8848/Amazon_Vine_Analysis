{
 "cells": [
  {
   "cell_type": "markdown",
   "id": "93645da5",
   "metadata": {},
   "source": [
    "# Amazon Vine Analysis"
   ]
  },
  {
   "cell_type": "code",
   "execution_count": 19,
   "id": "ee2564e3",
   "metadata": {},
   "outputs": [],
   "source": [
    "import pandas as pd\n",
    "import matplotlib.pyplot as plt"
   ]
  },
  {
   "cell_type": "code",
   "execution_count": 20,
   "id": "cda47e86",
   "metadata": {},
   "outputs": [
    {
     "name": "stderr",
     "output_type": "stream",
     "text": [
      "C:\\Users\\jilly\\anaconda3\\envs\\mlenv\\lib\\site-packages\\IPython\\core\\interactiveshell.py:3457: DtypeWarning: Columns (1) have mixed types.Specify dtype option on import or set low_memory=False.\n",
      "  exec(code_obj, self.user_global_ns, self.user_ns)\n"
     ]
    },
    {
     "data": {
      "text/html": [
       "<div>\n",
       "<style scoped>\n",
       "    .dataframe tbody tr th:only-of-type {\n",
       "        vertical-align: middle;\n",
       "    }\n",
       "\n",
       "    .dataframe tbody tr th {\n",
       "        vertical-align: top;\n",
       "    }\n",
       "\n",
       "    .dataframe thead th {\n",
       "        text-align: right;\n",
       "    }\n",
       "</style>\n",
       "<table border=\"1\" class=\"dataframe\">\n",
       "  <thead>\n",
       "    <tr style=\"text-align: right;\">\n",
       "      <th></th>\n",
       "      <th>review_id</th>\n",
       "      <th>star_rating</th>\n",
       "      <th>helpful_votes</th>\n",
       "      <th>total_votes</th>\n",
       "      <th>vine</th>\n",
       "      <th>verified_purchase</th>\n",
       "    </tr>\n",
       "  </thead>\n",
       "  <tbody>\n",
       "    <tr>\n",
       "      <th>0</th>\n",
       "      <td>R3I2DHQBR577SS</td>\n",
       "      <td>5.0</td>\n",
       "      <td>0.0</td>\n",
       "      <td>0.0</td>\n",
       "      <td>N</td>\n",
       "      <td>Y</td>\n",
       "    </tr>\n",
       "    <tr>\n",
       "      <th>1</th>\n",
       "      <td>R1QNE9NQFJC2Y4</td>\n",
       "      <td>5.0</td>\n",
       "      <td>0.0</td>\n",
       "      <td>0.0</td>\n",
       "      <td>N</td>\n",
       "      <td>Y</td>\n",
       "    </tr>\n",
       "    <tr>\n",
       "      <th>2</th>\n",
       "      <td>R3LIDG2Q4LJBAO</td>\n",
       "      <td>5.0</td>\n",
       "      <td>0.0</td>\n",
       "      <td>0.0</td>\n",
       "      <td>N</td>\n",
       "      <td>Y</td>\n",
       "    </tr>\n",
       "    <tr>\n",
       "      <th>3</th>\n",
       "      <td>R3KSZHPAEVPEAL</td>\n",
       "      <td>5.0</td>\n",
       "      <td>0.0</td>\n",
       "      <td>0.0</td>\n",
       "      <td>N</td>\n",
       "      <td>Y</td>\n",
       "    </tr>\n",
       "    <tr>\n",
       "      <th>4</th>\n",
       "      <td>RAI2OIG50KZ43</td>\n",
       "      <td>5.0</td>\n",
       "      <td>0.0</td>\n",
       "      <td>0.0</td>\n",
       "      <td>N</td>\n",
       "      <td>Y</td>\n",
       "    </tr>\n",
       "  </tbody>\n",
       "</table>\n",
       "</div>"
      ],
      "text/plain": [
       "        review_id star_rating  helpful_votes  total_votes vine  \\\n",
       "0  R3I2DHQBR577SS         5.0            0.0          0.0    N   \n",
       "1  R1QNE9NQFJC2Y4         5.0            0.0          0.0    N   \n",
       "2  R3LIDG2Q4LJBAO         5.0            0.0          0.0    N   \n",
       "3  R3KSZHPAEVPEAL         5.0            0.0          0.0    N   \n",
       "4   RAI2OIG50KZ43         5.0            0.0          0.0    N   \n",
       "\n",
       "  verified_purchase  \n",
       "0                 Y  \n",
       "1                 Y  \n",
       "2                 Y  \n",
       "3                 Y  \n",
       "4                 Y  "
      ]
     },
     "execution_count": 20,
     "metadata": {},
     "output_type": "execute_result"
    }
   ],
   "source": [
    "vine_reviews_df = pd.read_csv(\"vine_table.csv\")\n",
    "vine_reviews_df.head()"
   ]
  },
  {
   "cell_type": "markdown",
   "id": "5486ffed",
   "metadata": {},
   "source": [
    "## Filter Data where votes are equal to or greater than 20 "
   ]
  },
  {
   "cell_type": "code",
   "execution_count": 21,
   "id": "5357645c",
   "metadata": {},
   "outputs": [
    {
     "data": {
      "text/html": [
       "<div>\n",
       "<style scoped>\n",
       "    .dataframe tbody tr th:only-of-type {\n",
       "        vertical-align: middle;\n",
       "    }\n",
       "\n",
       "    .dataframe tbody tr th {\n",
       "        vertical-align: top;\n",
       "    }\n",
       "\n",
       "    .dataframe thead th {\n",
       "        text-align: right;\n",
       "    }\n",
       "</style>\n",
       "<table border=\"1\" class=\"dataframe\">\n",
       "  <thead>\n",
       "    <tr style=\"text-align: right;\">\n",
       "      <th></th>\n",
       "      <th>review_id</th>\n",
       "      <th>star_rating</th>\n",
       "      <th>helpful_votes</th>\n",
       "      <th>total_votes</th>\n",
       "      <th>vine</th>\n",
       "      <th>verified_purchase</th>\n",
       "    </tr>\n",
       "  </thead>\n",
       "  <tbody>\n",
       "    <tr>\n",
       "      <th>31</th>\n",
       "      <td>R2QRUE9REK8OUC</td>\n",
       "      <td>5.0</td>\n",
       "      <td>18.0</td>\n",
       "      <td>23.0</td>\n",
       "      <td>N</td>\n",
       "      <td>Y</td>\n",
       "    </tr>\n",
       "    <tr>\n",
       "      <th>102</th>\n",
       "      <td>R2POXRW6PXHXZG</td>\n",
       "      <td>5.0</td>\n",
       "      <td>25.0</td>\n",
       "      <td>30.0</td>\n",
       "      <td>N</td>\n",
       "      <td>Y</td>\n",
       "    </tr>\n",
       "    <tr>\n",
       "      <th>212</th>\n",
       "      <td>RZN43XRZ89IIJ</td>\n",
       "      <td>3.0</td>\n",
       "      <td>10.0</td>\n",
       "      <td>27.0</td>\n",
       "      <td>N</td>\n",
       "      <td>N</td>\n",
       "    </tr>\n",
       "    <tr>\n",
       "      <th>337</th>\n",
       "      <td>R29Q748WSHZ3SN</td>\n",
       "      <td>5.0</td>\n",
       "      <td>23.0</td>\n",
       "      <td>24.0</td>\n",
       "      <td>N</td>\n",
       "      <td>Y</td>\n",
       "    </tr>\n",
       "    <tr>\n",
       "      <th>357</th>\n",
       "      <td>R46UL5G5HEPRZ</td>\n",
       "      <td>5.0</td>\n",
       "      <td>18.0</td>\n",
       "      <td>20.0</td>\n",
       "      <td>N</td>\n",
       "      <td>N</td>\n",
       "    </tr>\n",
       "  </tbody>\n",
       "</table>\n",
       "</div>"
      ],
      "text/plain": [
       "          review_id star_rating  helpful_votes  total_votes vine  \\\n",
       "31   R2QRUE9REK8OUC         5.0           18.0         23.0    N   \n",
       "102  R2POXRW6PXHXZG         5.0           25.0         30.0    N   \n",
       "212   RZN43XRZ89IIJ         3.0           10.0         27.0    N   \n",
       "337  R29Q748WSHZ3SN         5.0           23.0         24.0    N   \n",
       "357   R46UL5G5HEPRZ         5.0           18.0         20.0    N   \n",
       "\n",
       "    verified_purchase  \n",
       "31                  Y  \n",
       "102                 Y  \n",
       "212                 N  \n",
       "337                 Y  \n",
       "357                 N  "
      ]
     },
     "execution_count": 21,
     "metadata": {},
     "output_type": "execute_result"
    }
   ],
   "source": [
    "votes_20_df = vine_reviews_df[vine_reviews_df['total_votes'] >= 20]\n",
    "votes_20_df.head()"
   ]
  },
  {
   "cell_type": "code",
   "execution_count": 22,
   "id": "618bb21f",
   "metadata": {},
   "outputs": [
    {
     "data": {
      "text/html": [
       "<div>\n",
       "<style scoped>\n",
       "    .dataframe tbody tr th:only-of-type {\n",
       "        vertical-align: middle;\n",
       "    }\n",
       "\n",
       "    .dataframe tbody tr th {\n",
       "        vertical-align: top;\n",
       "    }\n",
       "\n",
       "    .dataframe thead th {\n",
       "        text-align: right;\n",
       "    }\n",
       "</style>\n",
       "<table border=\"1\" class=\"dataframe\">\n",
       "  <thead>\n",
       "    <tr style=\"text-align: right;\">\n",
       "      <th></th>\n",
       "      <th>review_id</th>\n",
       "      <th>star_rating</th>\n",
       "      <th>helpful_votes</th>\n",
       "      <th>total_votes</th>\n",
       "      <th>vine</th>\n",
       "      <th>verified_purchase</th>\n",
       "    </tr>\n",
       "  </thead>\n",
       "  <tbody>\n",
       "    <tr>\n",
       "      <th>5115658</th>\n",
       "      <td>R3SHWVR8GO9WK4</td>\n",
       "      <td>5</td>\n",
       "      <td>26.0</td>\n",
       "      <td>26.0</td>\n",
       "      <td>N</td>\n",
       "      <td>N</td>\n",
       "    </tr>\n",
       "    <tr>\n",
       "      <th>5115659</th>\n",
       "      <td>R2KNC11QJB7V5U</td>\n",
       "      <td>5</td>\n",
       "      <td>30.0</td>\n",
       "      <td>34.0</td>\n",
       "      <td>N</td>\n",
       "      <td>N</td>\n",
       "    </tr>\n",
       "    <tr>\n",
       "      <th>5115662</th>\n",
       "      <td>R2IRC0IZ8YCE5T</td>\n",
       "      <td>3</td>\n",
       "      <td>23.0</td>\n",
       "      <td>23.0</td>\n",
       "      <td>N</td>\n",
       "      <td>N</td>\n",
       "    </tr>\n",
       "    <tr>\n",
       "      <th>5115663</th>\n",
       "      <td>R1U4ZSXOD228CZ</td>\n",
       "      <td>5</td>\n",
       "      <td>89.0</td>\n",
       "      <td>97.0</td>\n",
       "      <td>N</td>\n",
       "      <td>N</td>\n",
       "    </tr>\n",
       "    <tr>\n",
       "      <th>5115665</th>\n",
       "      <td>R1MEWK4I7YS5XK</td>\n",
       "      <td>5</td>\n",
       "      <td>23.0</td>\n",
       "      <td>23.0</td>\n",
       "      <td>N</td>\n",
       "      <td>N</td>\n",
       "    </tr>\n",
       "  </tbody>\n",
       "</table>\n",
       "</div>"
      ],
      "text/plain": [
       "              review_id star_rating  helpful_votes  total_votes vine  \\\n",
       "5115658  R3SHWVR8GO9WK4           5           26.0         26.0    N   \n",
       "5115659  R2KNC11QJB7V5U           5           30.0         34.0    N   \n",
       "5115662  R2IRC0IZ8YCE5T           3           23.0         23.0    N   \n",
       "5115663  R1U4ZSXOD228CZ           5           89.0         97.0    N   \n",
       "5115665  R1MEWK4I7YS5XK           5           23.0         23.0    N   \n",
       "\n",
       "        verified_purchase  \n",
       "5115658                 N  \n",
       "5115659                 N  \n",
       "5115662                 N  \n",
       "5115663                 N  \n",
       "5115665                 N  "
      ]
     },
     "execution_count": 22,
     "metadata": {},
     "output_type": "execute_result"
    }
   ],
   "source": [
    "votes_20_df.tail()"
   ]
  },
  {
   "cell_type": "markdown",
   "id": "a47c7e18",
   "metadata": {},
   "source": [
    "## Filter the new DataFrame to retrieve all the rows where the number of helpful_votes divided by total_votes is equal to or greater than 50%"
   ]
  },
  {
   "cell_type": "code",
   "execution_count": 23,
   "id": "9ca1d64c",
   "metadata": {},
   "outputs": [
    {
     "data": {
      "text/html": [
       "<div>\n",
       "<style scoped>\n",
       "    .dataframe tbody tr th:only-of-type {\n",
       "        vertical-align: middle;\n",
       "    }\n",
       "\n",
       "    .dataframe tbody tr th {\n",
       "        vertical-align: top;\n",
       "    }\n",
       "\n",
       "    .dataframe thead th {\n",
       "        text-align: right;\n",
       "    }\n",
       "</style>\n",
       "<table border=\"1\" class=\"dataframe\">\n",
       "  <thead>\n",
       "    <tr style=\"text-align: right;\">\n",
       "      <th></th>\n",
       "      <th>review_id</th>\n",
       "      <th>star_rating</th>\n",
       "      <th>helpful_votes</th>\n",
       "      <th>total_votes</th>\n",
       "      <th>vine</th>\n",
       "      <th>verified_purchase</th>\n",
       "    </tr>\n",
       "  </thead>\n",
       "  <tbody>\n",
       "    <tr>\n",
       "      <th>31</th>\n",
       "      <td>R2QRUE9REK8OUC</td>\n",
       "      <td>5.0</td>\n",
       "      <td>18.0</td>\n",
       "      <td>23.0</td>\n",
       "      <td>N</td>\n",
       "      <td>Y</td>\n",
       "    </tr>\n",
       "    <tr>\n",
       "      <th>102</th>\n",
       "      <td>R2POXRW6PXHXZG</td>\n",
       "      <td>5.0</td>\n",
       "      <td>25.0</td>\n",
       "      <td>30.0</td>\n",
       "      <td>N</td>\n",
       "      <td>Y</td>\n",
       "    </tr>\n",
       "    <tr>\n",
       "      <th>337</th>\n",
       "      <td>R29Q748WSHZ3SN</td>\n",
       "      <td>5.0</td>\n",
       "      <td>23.0</td>\n",
       "      <td>24.0</td>\n",
       "      <td>N</td>\n",
       "      <td>Y</td>\n",
       "    </tr>\n",
       "    <tr>\n",
       "      <th>357</th>\n",
       "      <td>R46UL5G5HEPRZ</td>\n",
       "      <td>5.0</td>\n",
       "      <td>18.0</td>\n",
       "      <td>20.0</td>\n",
       "      <td>N</td>\n",
       "      <td>N</td>\n",
       "    </tr>\n",
       "    <tr>\n",
       "      <th>386</th>\n",
       "      <td>R2UQHSNWU6WTZX</td>\n",
       "      <td>5.0</td>\n",
       "      <td>74.0</td>\n",
       "      <td>76.0</td>\n",
       "      <td>N</td>\n",
       "      <td>N</td>\n",
       "    </tr>\n",
       "  </tbody>\n",
       "</table>\n",
       "</div>"
      ],
      "text/plain": [
       "          review_id star_rating  helpful_votes  total_votes vine  \\\n",
       "31   R2QRUE9REK8OUC         5.0           18.0         23.0    N   \n",
       "102  R2POXRW6PXHXZG         5.0           25.0         30.0    N   \n",
       "337  R29Q748WSHZ3SN         5.0           23.0         24.0    N   \n",
       "357   R46UL5G5HEPRZ         5.0           18.0         20.0    N   \n",
       "386  R2UQHSNWU6WTZX         5.0           74.0         76.0    N   \n",
       "\n",
       "    verified_purchase  \n",
       "31                  Y  \n",
       "102                 Y  \n",
       "337                 Y  \n",
       "357                 N  \n",
       "386                 N  "
      ]
     },
     "execution_count": 23,
     "metadata": {},
     "output_type": "execute_result"
    }
   ],
   "source": [
    "votes_50_df = votes_20_df.loc[votes_20_df.helpful_votes / votes_20_df.total_votes >= 0.5]\n",
    "votes_50_df.head()"
   ]
  },
  {
   "cell_type": "markdown",
   "id": "1e5cbce8",
   "metadata": {},
   "source": [
    "## Filter the DataFrame and create a new DataFrame that retrieves all the rows where a review was written as part of the Vine program (paid)"
   ]
  },
  {
   "cell_type": "code",
   "execution_count": 24,
   "id": "0221c262",
   "metadata": {},
   "outputs": [
    {
     "data": {
      "text/html": [
       "<div>\n",
       "<style scoped>\n",
       "    .dataframe tbody tr th:only-of-type {\n",
       "        vertical-align: middle;\n",
       "    }\n",
       "\n",
       "    .dataframe tbody tr th {\n",
       "        vertical-align: top;\n",
       "    }\n",
       "\n",
       "    .dataframe thead th {\n",
       "        text-align: right;\n",
       "    }\n",
       "</style>\n",
       "<table border=\"1\" class=\"dataframe\">\n",
       "  <thead>\n",
       "    <tr style=\"text-align: right;\">\n",
       "      <th></th>\n",
       "      <th>review_id</th>\n",
       "      <th>star_rating</th>\n",
       "      <th>helpful_votes</th>\n",
       "      <th>total_votes</th>\n",
       "      <th>vine</th>\n",
       "      <th>verified_purchase</th>\n",
       "    </tr>\n",
       "  </thead>\n",
       "  <tbody>\n",
       "    <tr>\n",
       "      <th>33773</th>\n",
       "      <td>R106V6GUNWRSSS</td>\n",
       "      <td>5.0</td>\n",
       "      <td>857.0</td>\n",
       "      <td>889.0</td>\n",
       "      <td>Y</td>\n",
       "      <td>N</td>\n",
       "    </tr>\n",
       "    <tr>\n",
       "      <th>38256</th>\n",
       "      <td>R37N8KZS48W36A</td>\n",
       "      <td>5.0</td>\n",
       "      <td>36.0</td>\n",
       "      <td>37.0</td>\n",
       "      <td>Y</td>\n",
       "      <td>N</td>\n",
       "    </tr>\n",
       "    <tr>\n",
       "      <th>58582</th>\n",
       "      <td>R1LNEQ2MQE03PD</td>\n",
       "      <td>5.0</td>\n",
       "      <td>49.0</td>\n",
       "      <td>66.0</td>\n",
       "      <td>Y</td>\n",
       "      <td>N</td>\n",
       "    </tr>\n",
       "    <tr>\n",
       "      <th>61695</th>\n",
       "      <td>R1ECPWPUNK36ES</td>\n",
       "      <td>5.0</td>\n",
       "      <td>29.0</td>\n",
       "      <td>31.0</td>\n",
       "      <td>Y</td>\n",
       "      <td>N</td>\n",
       "    </tr>\n",
       "    <tr>\n",
       "      <th>95790</th>\n",
       "      <td>R16BUM7UQZLOM6</td>\n",
       "      <td>3.0</td>\n",
       "      <td>107.0</td>\n",
       "      <td>112.0</td>\n",
       "      <td>Y</td>\n",
       "      <td>N</td>\n",
       "    </tr>\n",
       "  </tbody>\n",
       "</table>\n",
       "</div>"
      ],
      "text/plain": [
       "            review_id star_rating  helpful_votes  total_votes vine  \\\n",
       "33773  R106V6GUNWRSSS         5.0          857.0        889.0    Y   \n",
       "38256  R37N8KZS48W36A         5.0           36.0         37.0    Y   \n",
       "58582  R1LNEQ2MQE03PD         5.0           49.0         66.0    Y   \n",
       "61695  R1ECPWPUNK36ES         5.0           29.0         31.0    Y   \n",
       "95790  R16BUM7UQZLOM6         3.0          107.0        112.0    Y   \n",
       "\n",
       "      verified_purchase  \n",
       "33773                 N  \n",
       "38256                 N  \n",
       "58582                 N  \n",
       "61695                 N  \n",
       "95790                 N  "
      ]
     },
     "execution_count": 24,
     "metadata": {},
     "output_type": "execute_result"
    }
   ],
   "source": [
    "paid_reviews = votes_50_df[votes_50_df['vine'] == 'Y']\n",
    "paid_reviews.head()"
   ]
  },
  {
   "cell_type": "markdown",
   "id": "88b0dc66",
   "metadata": {},
   "source": [
    "## Retrieve all the rows where the review was not part of the Vine program (unpaid)"
   ]
  },
  {
   "cell_type": "code",
   "execution_count": 25,
   "id": "85d06c9a",
   "metadata": {},
   "outputs": [
    {
     "data": {
      "text/html": [
       "<div>\n",
       "<style scoped>\n",
       "    .dataframe tbody tr th:only-of-type {\n",
       "        vertical-align: middle;\n",
       "    }\n",
       "\n",
       "    .dataframe tbody tr th {\n",
       "        vertical-align: top;\n",
       "    }\n",
       "\n",
       "    .dataframe thead th {\n",
       "        text-align: right;\n",
       "    }\n",
       "</style>\n",
       "<table border=\"1\" class=\"dataframe\">\n",
       "  <thead>\n",
       "    <tr style=\"text-align: right;\">\n",
       "      <th></th>\n",
       "      <th>review_id</th>\n",
       "      <th>star_rating</th>\n",
       "      <th>helpful_votes</th>\n",
       "      <th>total_votes</th>\n",
       "      <th>vine</th>\n",
       "      <th>verified_purchase</th>\n",
       "    </tr>\n",
       "  </thead>\n",
       "  <tbody>\n",
       "    <tr>\n",
       "      <th>31</th>\n",
       "      <td>R2QRUE9REK8OUC</td>\n",
       "      <td>5.0</td>\n",
       "      <td>18.0</td>\n",
       "      <td>23.0</td>\n",
       "      <td>N</td>\n",
       "      <td>Y</td>\n",
       "    </tr>\n",
       "    <tr>\n",
       "      <th>102</th>\n",
       "      <td>R2POXRW6PXHXZG</td>\n",
       "      <td>5.0</td>\n",
       "      <td>25.0</td>\n",
       "      <td>30.0</td>\n",
       "      <td>N</td>\n",
       "      <td>Y</td>\n",
       "    </tr>\n",
       "    <tr>\n",
       "      <th>337</th>\n",
       "      <td>R29Q748WSHZ3SN</td>\n",
       "      <td>5.0</td>\n",
       "      <td>23.0</td>\n",
       "      <td>24.0</td>\n",
       "      <td>N</td>\n",
       "      <td>Y</td>\n",
       "    </tr>\n",
       "    <tr>\n",
       "      <th>357</th>\n",
       "      <td>R46UL5G5HEPRZ</td>\n",
       "      <td>5.0</td>\n",
       "      <td>18.0</td>\n",
       "      <td>20.0</td>\n",
       "      <td>N</td>\n",
       "      <td>N</td>\n",
       "    </tr>\n",
       "    <tr>\n",
       "      <th>386</th>\n",
       "      <td>R2UQHSNWU6WTZX</td>\n",
       "      <td>5.0</td>\n",
       "      <td>74.0</td>\n",
       "      <td>76.0</td>\n",
       "      <td>N</td>\n",
       "      <td>N</td>\n",
       "    </tr>\n",
       "  </tbody>\n",
       "</table>\n",
       "</div>"
      ],
      "text/plain": [
       "          review_id star_rating  helpful_votes  total_votes vine  \\\n",
       "31   R2QRUE9REK8OUC         5.0           18.0         23.0    N   \n",
       "102  R2POXRW6PXHXZG         5.0           25.0         30.0    N   \n",
       "337  R29Q748WSHZ3SN         5.0           23.0         24.0    N   \n",
       "357   R46UL5G5HEPRZ         5.0           18.0         20.0    N   \n",
       "386  R2UQHSNWU6WTZX         5.0           74.0         76.0    N   \n",
       "\n",
       "    verified_purchase  \n",
       "31                  Y  \n",
       "102                 Y  \n",
       "337                 Y  \n",
       "357                 N  \n",
       "386                 N  "
      ]
     },
     "execution_count": 25,
     "metadata": {},
     "output_type": "execute_result"
    }
   ],
   "source": [
    "unpaid_reviews = votes_50_df[votes_50_df['vine'] == 'N']\n",
    "unpaid_reviews.head()"
   ]
  },
  {
   "cell_type": "markdown",
   "id": "ded30c9d",
   "metadata": {},
   "source": [
    "## Determine the total number of reviews, the number of 5-star reviews, and the percentage of 5-star reviews for the two types of reviews (paid vs unpaid)"
   ]
  },
  {
   "cell_type": "code",
   "execution_count": 26,
   "id": "5ae277b1",
   "metadata": {},
   "outputs": [
    {
     "data": {
      "text/plain": [
       "647"
      ]
     },
     "execution_count": 26,
     "metadata": {},
     "output_type": "execute_result"
    }
   ],
   "source": [
    "#Total Number of paid reviews\n",
    "paid_count = len(paid_reviews)\n",
    "paid_count"
   ]
  },
  {
   "cell_type": "code",
   "execution_count": 27,
   "id": "cf22b67a",
   "metadata": {},
   "outputs": [
    {
     "data": {
      "text/plain": [
       "74113"
      ]
     },
     "execution_count": 27,
     "metadata": {},
     "output_type": "execute_result"
    }
   ],
   "source": [
    "#Total number of unpaid reviews\n",
    "unpaid_count = len(unpaid_reviews)\n",
    "unpaid_count"
   ]
  },
  {
   "cell_type": "code",
   "execution_count": 30,
   "id": "e2930186",
   "metadata": {},
   "outputs": [
    {
     "data": {
      "text/plain": [
       "228"
      ]
     },
     "execution_count": 30,
     "metadata": {},
     "output_type": "execute_result"
    }
   ],
   "source": [
    "#Total Five star paid reviews\n",
    "five_star_paid_reviews = len(paid_reviews[paid_reviews['star_rating']==5])\n",
    "five_star_paid_reviews "
   ]
  },
  {
   "cell_type": "code",
   "execution_count": 31,
   "id": "097fcdec",
   "metadata": {},
   "outputs": [
    {
     "data": {
      "text/plain": [
       "42612"
      ]
     },
     "execution_count": 31,
     "metadata": {},
     "output_type": "execute_result"
    }
   ],
   "source": [
    "#Total of unpaid five star reviews\n",
    "five_star_unpaid_reviews = len(unpaid_reviews[unpaid_reviews['star_rating']==5])\n",
    "five_star_unpaid_reviews"
   ]
  },
  {
   "cell_type": "code",
   "execution_count": 32,
   "id": "a75df621",
   "metadata": {},
   "outputs": [
    {
     "data": {
      "text/plain": [
       "0.35239567233384855"
      ]
     },
     "execution_count": 32,
     "metadata": {},
     "output_type": "execute_result"
    }
   ],
   "source": [
    "#Five Star Percentage of paid reviews\n",
    "five_star_paid_reviews/paid_count"
   ]
  },
  {
   "cell_type": "code",
   "execution_count": 33,
   "id": "d6660cc3",
   "metadata": {},
   "outputs": [
    {
     "data": {
      "text/plain": [
       "0.5749598585943086"
      ]
     },
     "execution_count": 33,
     "metadata": {},
     "output_type": "execute_result"
    }
   ],
   "source": [
    "#Five star percentage of unpaid reviews\n",
    "five_star_unpaid_reviews/unpaid_count"
   ]
  },
  {
   "cell_type": "code",
   "execution_count": null,
   "id": "a568f765",
   "metadata": {},
   "outputs": [],
   "source": []
  }
 ],
 "metadata": {
  "kernelspec": {
   "display_name": "mlenv",
   "language": "python",
   "name": "mlenv"
  },
  "language_info": {
   "codemirror_mode": {
    "name": "ipython",
    "version": 3
   },
   "file_extension": ".py",
   "mimetype": "text/x-python",
   "name": "python",
   "nbconvert_exporter": "python",
   "pygments_lexer": "ipython3",
   "version": "3.7.15"
  }
 },
 "nbformat": 4,
 "nbformat_minor": 5
}
